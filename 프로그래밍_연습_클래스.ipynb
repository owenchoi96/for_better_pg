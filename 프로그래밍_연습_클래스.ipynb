{
  "nbformat": 4,
  "nbformat_minor": 0,
  "metadata": {
    "colab": {
      "provenance": []
    },
    "kernelspec": {
      "name": "python3",
      "display_name": "Python 3"
    },
    "language_info": {
      "name": "python"
    }
  },
  "cells": [
    {
      "cell_type": "markdown",
      "source": [
        "**클래스 기본**"
      ],
      "metadata": {
        "id": "L4v2jJ52a6s4"
      }
    },
    {
      "cell_type": "code",
      "source": [
        "class 클래스이름:\n",
        "  - 명사를(attribute)를 초기화 하는 공간\n",
        "  - 동사를(behavior)를 정의하는 공간 "
      ],
      "metadata": {
        "id": "SReLoum17WWH"
      },
      "execution_count": null,
      "outputs": []
    },
    {
      "cell_type": "code",
      "source": [
        "# 내가 만든 예시\n",
        "class SoccerPlayer:\n",
        "\n",
        "    # \n",
        "    def __init__(self, name, shoot_power=None, speed = None):\n",
        "        self.name = name  \n",
        "        self.shoot_power = shoot_power\n",
        "        self.speed = speed\n",
        "        return \n",
        "\n",
        "    def shoot(self): # 맨 처음 인자의 이름은 항상 self \n",
        "        print('슛을 날립니다')\n",
        "        print('슈웃')\n",
        "        print(\"슛 강도 : {}\".format(self.shoot_power))\n",
        "        return \n",
        "        \n",
        "\n",
        "    def pass_(self):\n",
        "        print(\"패스를 합니다\")\n",
        "        return\n",
        "\n",
        "    \n",
        "kang_in = SoccerPlayer('이강인')\n",
        "heung_min = SoccerPlayer('손흥민')\n",
        "\n",
        "# shoot_power 설정\n",
        "kang_in.shoot_power = 3\n",
        "heung_min.shoot_power = 4\n",
        "\n",
        "# speed 설정\n",
        "kang_in.shoot_power = 5\n",
        "heung_min.shoot_power = 9\n",
        "\n",
        "\n",
        "kang_in.shoot() "
      ],
      "metadata": {
        "colab": {
          "base_uri": "https://localhost:8080/"
        },
        "id": "mYNhpQtD7WY8",
        "outputId": "74170580-1590-4aa8-c492-5663e14600c4"
      },
      "execution_count": 65,
      "outputs": [
        {
          "output_type": "stream",
          "name": "stdout",
          "text": [
            "슛을 날립니다\n",
            "슈웃\n",
            "슛 강도 : 5\n",
            "None\n"
          ]
        }
      ]
    },
    {
      "cell_type": "code",
      "source": [
        "class SoccerPlayer:\n",
        "    def __init__(self, name=None, height=0, weight=0, shoot=0):\n",
        "        self.my_name = name\n",
        "        self.my_height = height\n",
        "        self.my_weight = weight\n",
        "        self.shoot_power = shoot\n",
        "\n",
        "    def shoot(self):\n",
        "        print(f\"{self.shoot_power}강도 만큼 슛을 때립니다\")\n",
        "\n",
        "player1 = SoccerPlayer()\n",
        "player1.my_name = 'choi'\n",
        "player1.my_height = 100\n",
        "player1.my_weight = 100\n",
        "player1.shoot_power = 100\n",
        "\n",
        "player1.shoot()"
      ],
      "metadata": {
        "colab": {
          "base_uri": "https://localhost:8080/"
        },
        "id": "uZIEvVZl7Wb_",
        "outputId": "4b4ee0c5-269f-4b0d-e2cc-20a8a1da0143"
      },
      "execution_count": 92,
      "outputs": [
        {
          "output_type": "stream",
          "name": "stdout",
          "text": [
            "100강도 만큼 슛을 때립니다\n"
          ]
        }
      ]
    },
    {
      "cell_type": "markdown",
      "source": [
        "**클래스의 상속**"
      ],
      "metadata": {
        "id": "9IxGcCps7Wey"
      }
    },
    {
      "cell_type": "code",
      "source": [
        "class Human:\n",
        "    def __init__(self, h, w):\n",
        "        self.height = h\n",
        "        self.weight = w\n",
        "\n",
        "    def walk(self):\n",
        "        print('걸어라 휴먼')\n",
        "\n",
        "human1 = Human(100, 200)\n",
        "human1.walk()"
      ],
      "metadata": {
        "colab": {
          "base_uri": "https://localhost:8080/"
        },
        "id": "BcmjisDH7Wh1",
        "outputId": "0baec0ad-4b3c-41fe-cf24-f1ae2731b8df"
      },
      "execution_count": 94,
      "outputs": [
        {
          "output_type": "stream",
          "name": "stdout",
          "text": [
            "걸어라 휴먼\n"
          ]
        }
      ]
    },
    {
      "cell_type": "code",
      "source": [
        "class Human(object): # 명시를 안하면 내부적으로 object를 받음. \n",
        "    def __init__(self, h, w):\n",
        "        self.height = h\n",
        "        self.weight = w\n",
        "\n",
        "    def walk(self):\n",
        "        print('태어나라 휴먼')\n",
        "\n",
        "    \n",
        "    class Athlete(Human):\n",
        "        def __init__(self, h, w, fat_rate):\n",
        "            super().__init__(h,w) # 상속 \n",
        "            self.fat_rate = fat_rate\n",
        "\n",
        "        def workout(self):\n",
        "            print(\"=== 현재 몸 상태 ===\")\n",
        "            print(f\"키 : {self.height}cm, 몸무게 : {self.weight}cm, 체지방량 : {self.fat_rate}%\")\n",
        "            print('운동을 합니다')\n",
        "\n",
        "        \n",
        "    class SoccerPlayer(Athlete):\n",
        "        \n",
        "        def workout(self): # 오버라이딩 \n",
        "            print(\"축구를 한다\")\n",
        "\n",
        "h3 = SoccerPlayer(100,150,200)\n",
        "h3.walk()\n",
        "h3.workout()"
      ],
      "metadata": {
        "colab": {
          "base_uri": "https://localhost:8080/"
        },
        "id": "_L-8eBeO7Wku",
        "outputId": "47e9651a-3623-41e7-d032-e4fa1b17b376"
      },
      "execution_count": 106,
      "outputs": [
        {
          "output_type": "stream",
          "name": "stdout",
          "text": [
            "태어나라 휴먼\n",
            "축구를 한다\n"
          ]
        }
      ]
    },
    {
      "cell_type": "markdown",
      "source": [
        "**파이선 관점에서의 파이썬 기본 자료형**"
      ],
      "metadata": {
        "id": "Hj-g7-2UX125"
      }
    },
    {
      "cell_type": "code",
      "source": [
        "# 리스트는 리스트라는 클래스가 있음\n",
        "a = list()\n",
        "print(a.__class__)"
      ],
      "metadata": {
        "colab": {
          "base_uri": "https://localhost:8080/"
        },
        "id": "9yZ6NdeT7Wtj",
        "outputId": "bd4ec121-0137-4708-ce95-398e0e89e586"
      },
      "execution_count": 110,
      "outputs": [
        {
          "output_type": "stream",
          "name": "stdout",
          "text": [
            "<class 'list'>\n"
          ]
        }
      ]
    },
    {
      "cell_type": "code",
      "source": [
        "a = [2,3,4,5,6]\n",
        "r = a.pop(0) # index 넣기 \n",
        "print(r) # pop 된 값 반환\n",
        "print(a)"
      ],
      "metadata": {
        "colab": {
          "base_uri": "https://localhost:8080/"
        },
        "id": "Wp5bQhd77Wwn",
        "outputId": "b1c7d804-b6b2-4f0a-b18b-43ae1bedf317"
      },
      "execution_count": 111,
      "outputs": [
        {
          "output_type": "stream",
          "name": "stdout",
          "text": [
            "2\n",
            "[3, 4, 5, 6]\n"
          ]
        }
      ]
    },
    {
      "cell_type": "code",
      "source": [
        "a = [6,23,5,6,]\n",
        "print(sorted(a))\n",
        "print(a)"
      ],
      "metadata": {
        "colab": {
          "base_uri": "https://localhost:8080/"
        },
        "id": "vrJsdd9k7Wzv",
        "outputId": "bdb3b48f-ab41-40fb-ad1b-4a2f95b3dc27"
      },
      "execution_count": 119,
      "outputs": [
        {
          "output_type": "stream",
          "name": "stdout",
          "text": [
            "[5, 6, 6, 23]\n",
            "[6, 23, 5, 6]\n"
          ]
        }
      ]
    },
    {
      "cell_type": "code",
      "source": [
        "class SoccerPlayer:\n",
        "    \n",
        "    def __init__(self, historical_weight_list): # 인스턴스 설정. \n",
        "        self.historical_weight_list = historical_weight_list\n",
        "\n",
        "player1 = SoccerPlayer([100,90,95,80])\n",
        "player1.historical_weight_list"
      ],
      "metadata": {
        "colab": {
          "base_uri": "https://localhost:8080/"
        },
        "id": "uRdmcLA47W2d",
        "outputId": "bb2dbf8d-9c9d-4bea-9fe5-fa7ec70dd841"
      },
      "execution_count": 123,
      "outputs": [
        {
          "output_type": "execute_result",
          "data": {
            "text/plain": [
              "[100, 90, 95, 80]"
            ]
          },
          "metadata": {},
          "execution_count": 123
        }
      ]
    },
    {
      "cell_type": "code",
      "source": [
        "a = [1,2,3,4]\n",
        "\n",
        "\n",
        "class SoccerPlayer:\n",
        "    \n",
        "    def __init__(self, historical_weight_list, walk_speed=3): # 인스턴스 설정. \n",
        "        self.historical_weight_list = historical_weight_list\n",
        "        self.walk_speed = walk_speed\n",
        "\n",
        "    def walk(self):\n",
        "        print('걷는다')\n",
        "\n",
        "class SoccerCoach:\n",
        "    def __init__(self, num_career_year):\n",
        "        self.num_career_year = num_career_year\n",
        "\n",
        "class Team:\n",
        "    def __init__(self, coach, player_list):\n",
        "        self.coach = coach\n",
        "        self.player_list = player_list\n",
        "\n",
        "# player1, player2\n",
        "player1 = SoccerPlayer(70)\n",
        "player2 = SoccerPlayer(80)\n",
        "\n",
        "# coach\n",
        "coach = SoccerCoach(5)\n",
        "\n",
        "# team이라는 instance \n",
        "team = Team( \n",
        "    coach=coach,\n",
        "    player_list = [player1, player2]\n",
        ")\n",
        "\n",
        "team.player_list[0].walk()\n"
      ],
      "metadata": {
        "colab": {
          "base_uri": "https://localhost:8080/"
        },
        "id": "rrF3eH737W5j",
        "outputId": "bed87d75-5b8e-47a3-b814-bf1f710ca464"
      },
      "execution_count": 155,
      "outputs": [
        {
          "output_type": "stream",
          "name": "stdout",
          "text": [
            "걷는다\n"
          ]
        }
      ]
    },
    {
      "cell_type": "code",
      "source": [],
      "metadata": {
        "id": "vAXSoEQ37XBT"
      },
      "execution_count": null,
      "outputs": []
    },
    {
      "cell_type": "code",
      "source": [],
      "metadata": {
        "id": "-mTVTS0J6ErG"
      },
      "execution_count": null,
      "outputs": []
    },
    {
      "cell_type": "code",
      "source": [],
      "metadata": {
        "id": "Ck8p8R4U6EtP"
      },
      "execution_count": null,
      "outputs": []
    },
    {
      "cell_type": "code",
      "source": [],
      "metadata": {
        "id": "HhdFWEiJ6Evd"
      },
      "execution_count": null,
      "outputs": []
    },
    {
      "cell_type": "code",
      "source": [],
      "metadata": {
        "id": "lQQolkD06ExV"
      },
      "execution_count": null,
      "outputs": []
    },
    {
      "cell_type": "code",
      "source": [],
      "metadata": {
        "id": "hJA2XsgX6Ezu"
      },
      "execution_count": null,
      "outputs": []
    },
    {
      "cell_type": "code",
      "source": [],
      "metadata": {
        "id": "h0JHKbg86E17"
      },
      "execution_count": null,
      "outputs": []
    },
    {
      "cell_type": "code",
      "source": [],
      "metadata": {
        "id": "nhNJ-Iz16E3z"
      },
      "execution_count": null,
      "outputs": []
    },
    {
      "cell_type": "code",
      "source": [],
      "metadata": {
        "id": "cI4NtBMT6E6Z"
      },
      "execution_count": null,
      "outputs": []
    },
    {
      "cell_type": "code",
      "source": [],
      "metadata": {
        "id": "j29CebI16E8Z"
      },
      "execution_count": null,
      "outputs": []
    },
    {
      "cell_type": "code",
      "source": [],
      "metadata": {
        "id": "yr9lf-OL6E-s"
      },
      "execution_count": null,
      "outputs": []
    },
    {
      "cell_type": "code",
      "source": [],
      "metadata": {
        "id": "bjS1Z05V6FAs"
      },
      "execution_count": null,
      "outputs": []
    },
    {
      "cell_type": "code",
      "source": [],
      "metadata": {
        "id": "ae6EUjY76FC5"
      },
      "execution_count": null,
      "outputs": []
    },
    {
      "cell_type": "code",
      "source": [],
      "metadata": {
        "id": "DB4UhPth6FE8"
      },
      "execution_count": null,
      "outputs": []
    }
  ]
}