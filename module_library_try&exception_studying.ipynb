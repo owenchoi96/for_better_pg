{
 "cells": [
  {
   "cell_type": "markdown",
   "id": "950edba3",
   "metadata": {},
   "source": [
    "**module / library / class / method**"
   ]
  },
  {
   "cell_type": "code",
   "execution_count": null,
   "id": "a178682b",
   "metadata": {},
   "outputs": [],
   "source": [
    "# package.module.library.class.method\n",
    "# library.class.method\n",
    "# library.method\n",
    "# pip로 설치 or conda로 설치 \n",
    "# 설치 혹은 update이후 kernel을 다시 시작하기 "
   ]
  },
  {
   "cell_type": "code",
   "execution_count": null,
   "id": "a7cc7e25",
   "metadata": {},
   "outputs": [],
   "source": [
    "# 예시로 내 파일 경로에 만든 파이썬 파일들 \n",
    "import my_first_program\n",
    "import my_second_program\n",
    "import my_third_program\n",
    "\n",
    "\n",
    "my_first_program.sum_from_first_program(1,2)"
   ]
  },
  {
   "cell_type": "code",
   "execution_count": null,
   "id": "800c5370",
   "metadata": {},
   "outputs": [],
   "source": [
    "a = [5,1,3,4,5]\n",
    "my_first_program.shuffle_numbers(a)\n",
    "print(a)\n",
    "print(my_first_program.instance_1)"
   ]
  },
  {
   "cell_type": "code",
   "execution_count": 1,
   "id": "264b807c",
   "metadata": {},
   "outputs": [
    {
     "data": {
      "text/plain": [
       "3"
      ]
     },
     "execution_count": 1,
     "metadata": {},
     "output_type": "execute_result"
    }
   ],
   "source": [
    "third_program_class.sum_func_from_third_program(1,2)"
   ]
  },
  {
   "cell_type": "code",
   "execution_count": 6,
   "id": "008f3127",
   "metadata": {},
   "outputs": [
    {
     "ename": "TypeError",
     "evalue": "get() missing 1 required positional argument: 'url'",
     "output_type": "error",
     "traceback": [
      "\u001b[0;31m---------------------------------------------------------------------------\u001b[0m",
      "\u001b[0;31mTypeError\u001b[0m                                 Traceback (most recent call last)",
      "Cell \u001b[0;32mIn[6], line 2\u001b[0m\n\u001b[1;32m      1\u001b[0m \u001b[38;5;28;01mimport\u001b[39;00m \u001b[38;5;21;01mrequests\u001b[39;00m\n\u001b[0;32m----> 2\u001b[0m \u001b[43mrequests\u001b[49m\u001b[38;5;241;43m.\u001b[39;49m\u001b[43mget\u001b[49m\u001b[43m(\u001b[49m\u001b[43m)\u001b[49m\n",
      "\u001b[0;31mTypeError\u001b[0m: get() missing 1 required positional argument: 'url'"
     ]
    }
   ],
   "source": [
    "import requests\n",
    "requests.get()"
   ]
  },
  {
   "cell_type": "markdown",
   "id": "31347840",
   "metadata": {},
   "source": [
    "**try/exception (예외처리)**"
   ]
  },
  {
   "cell_type": "code",
   "execution_count": 12,
   "id": "ac52c089",
   "metadata": {},
   "outputs": [
    {
     "name": "stdout",
     "output_type": "stream",
     "text": [
      "division by zero, 0으로 나누시면 안됩니다.\n"
     ]
    }
   ],
   "source": [
    "try:\n",
    "    a = 10 / 0\n",
    "except Exception as e:\n",
    "    print (f'{e}, 0으로 나누시면 안됩니다.')"
   ]
  },
  {
   "cell_type": "code",
   "execution_count": 15,
   "id": "9e06262b",
   "metadata": {},
   "outputs": [
    {
     "name": "stdout",
     "output_type": "stream",
     "text": [
      "10이 아닙니다\n"
     ]
    }
   ],
   "source": [
    "value = 10\n",
    "\n",
    "try:\n",
    "    if value == 10:\n",
    "        print('yes it is 10')\n",
    "    else:\n",
    "        raise Exception\n",
    "except Exception:\n",
    "    print(\"10이 아닙니다\")"
   ]
  },
  {
   "cell_type": "code",
   "execution_count": null,
   "id": "04749008",
   "metadata": {},
   "outputs": [],
   "source": []
  },
  {
   "cell_type": "code",
   "execution_count": null,
   "id": "babc4ee4",
   "metadata": {},
   "outputs": [],
   "source": [
    "# example"
   ]
  },
  {
   "cell_type": "code",
   "execution_count": 35,
   "id": "86ac586b",
   "metadata": {},
   "outputs": [],
   "source": [
    "class Naver1:\n",
    "    def crawl(self):\n",
    "        return \"Naver1 crawled\"\n",
    "        \n",
    "class Naver2:\n",
    "    def crawl(self):\n",
    "        a = 0/0     # 일부로 에러 만들기\n",
    "        return \"Naver2 crawled\"\n",
    "        \n",
    "class Naver3:\n",
    "    def crawl(self):\n",
    "        return \"Naver3 crawled\"\n",
    "    \n",
    "class Naver4:\n",
    "    def crawl(self):\n",
    "        return \"Naver4 crawled\"\n",
    "\n",
    "class Naver5:\n",
    "    def crawl(self):\n",
    "        return \"Naver5 crawled\"\n",
    "    \n",
    "class Naver6:\n",
    "    def crawl(self):\n",
    "        return \"Naver6 crawled\""
   ]
  },
  {
   "cell_type": "code",
   "execution_count": 36,
   "id": "175f0241",
   "metadata": {},
   "outputs": [
    {
     "name": "stdout",
     "output_type": "stream",
     "text": [
      "에러가 난 인덱스 : 1\n",
      "['Naver1 crawled', 'Naver3 crawled', 'Naver4 crawled', 'Naver5 crawled', 'Naver6 crawled']\n"
     ]
    }
   ],
   "source": [
    "crawl_target_list = [\n",
    "    Naver1(), \n",
    "    Naver2(), \n",
    "    Naver3(), \n",
    "    Naver4(), \n",
    "    Naver5(), \n",
    "    Naver6(), \n",
    "]\n",
    "\n",
    "result_list = []\n",
    "crawl_cnt = 0\n",
    "for site in crawl_target_list:\n",
    "    try:\n",
    "        result = site.crawl()\n",
    "        crawl_cnt += 1\n",
    "    except Exception:\n",
    "        print(f'에러가 난 인덱스 : {crawl_cnt}')\n",
    "        crawl_cnt +=1\n",
    "        \n",
    "    else: # exception이 발생하지 않았을 때 실행되는 구문. \n",
    "        result_list.append(result)\n",
    "        \n",
    "\n",
    "print(result_list)"
   ]
  },
  {
   "cell_type": "code",
   "execution_count": null,
   "id": "cf195f05",
   "metadata": {},
   "outputs": [],
   "source": []
  },
  {
   "cell_type": "code",
   "execution_count": null,
   "id": "6a1a5625",
   "metadata": {},
   "outputs": [],
   "source": []
  },
  {
   "cell_type": "code",
   "execution_count": null,
   "id": "0380b730",
   "metadata": {},
   "outputs": [],
   "source": []
  },
  {
   "cell_type": "code",
   "execution_count": null,
   "id": "861afce2",
   "metadata": {},
   "outputs": [],
   "source": []
  },
  {
   "cell_type": "code",
   "execution_count": null,
   "id": "0add7aff",
   "metadata": {},
   "outputs": [],
   "source": []
  },
  {
   "cell_type": "code",
   "execution_count": null,
   "id": "28662f92",
   "metadata": {},
   "outputs": [],
   "source": []
  },
  {
   "cell_type": "code",
   "execution_count": null,
   "id": "60fc1437",
   "metadata": {},
   "outputs": [],
   "source": []
  },
  {
   "cell_type": "code",
   "execution_count": null,
   "id": "0ad46b26",
   "metadata": {},
   "outputs": [],
   "source": []
  },
  {
   "cell_type": "code",
   "execution_count": null,
   "id": "dbf035c2",
   "metadata": {},
   "outputs": [],
   "source": []
  }
 ],
 "metadata": {
  "kernelspec": {
   "display_name": "Python 3 (ipykernel)",
   "language": "python",
   "name": "python3"
  },
  "language_info": {
   "codemirror_mode": {
    "name": "ipython",
    "version": 3
   },
   "file_extension": ".py",
   "mimetype": "text/x-python",
   "name": "python",
   "nbconvert_exporter": "python",
   "pygments_lexer": "ipython3",
   "version": "3.9.16"
  },
  "toc": {
   "base_numbering": 1,
   "nav_menu": {},
   "number_sections": true,
   "sideBar": true,
   "skip_h1_title": false,
   "title_cell": "Table of Contents",
   "title_sidebar": "Contents",
   "toc_cell": false,
   "toc_position": {},
   "toc_section_display": true,
   "toc_window_display": false
  },
  "varInspector": {
   "cols": {
    "lenName": 16,
    "lenType": 16,
    "lenVar": 40
   },
   "kernels_config": {
    "python": {
     "delete_cmd_postfix": "",
     "delete_cmd_prefix": "del ",
     "library": "var_list.py",
     "varRefreshCmd": "print(var_dic_list())"
    },
    "r": {
     "delete_cmd_postfix": ") ",
     "delete_cmd_prefix": "rm(",
     "library": "var_list.r",
     "varRefreshCmd": "cat(var_dic_list()) "
    }
   },
   "types_to_exclude": [
    "module",
    "function",
    "builtin_function_or_method",
    "instance",
    "_Feature"
   ],
   "window_display": false
  }
 },
 "nbformat": 4,
 "nbformat_minor": 5
}
